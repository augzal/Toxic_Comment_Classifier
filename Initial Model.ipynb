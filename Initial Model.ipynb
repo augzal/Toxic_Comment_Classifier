{
 "cells": [
  {
   "cell_type": "markdown",
   "metadata": {},
   "source": [
    "### Initial model"
   ]
  },
  {
   "cell_type": "code",
   "execution_count": 1,
   "metadata": {},
   "outputs": [
    {
     "name": "stderr",
     "output_type": "stream",
     "text": [
      "Using TensorFlow backend.\n"
     ]
    }
   ],
   "source": [
    "import numpy as np\n",
    "import pandas as pd\n",
    "from sklearn.feature_extraction.text import CountVectorizer, TfidfVectorizer\n",
    "from sklearn.model_selection import train_test_split, GridSearchCV\n",
    "from sklearn.decomposition import TruncatedSVD\n",
    "from sklearn.preprocessing import Normalizer\n",
    "from sklearn.pipeline import Pipeline\n",
    "import matplotlib.pyplot as plt\n",
    "import string\n",
    "import scipy\n",
    "import keras\n",
    "import sklearn\n",
    "from tensorflow.keras.models import Sequential\n",
    "from tensorflow.keras.layers import Dense, Dropout\n",
    "from tensorflow.keras.wrappers.scikit_learn import KerasClassifier\n",
    "from tensorflow.keras.callbacks import EarlyStopping\n",
    "from tensorflow.keras.metrics import AUC\n"
   ]
  },
  {
   "cell_type": "markdown",
   "metadata": {},
   "source": [
    "### Load data"
   ]
  },
  {
   "cell_type": "code",
   "execution_count": 2,
   "metadata": {},
   "outputs": [],
   "source": [
    "# Input data\n",
    "train_df = pd.read_csv('data/train_clean.csv')\n",
    "X = train_df['comment_clean']\n",
    "y = train_df[['toxic', 'severe_toxic', 'obscene', 'threat', 'insult', 'identity_hate']]"
   ]
  },
  {
   "cell_type": "markdown",
   "metadata": {},
   "source": [
    "To evaluate initial model we will need a validation dataset. We can split given training dataset - to train/validation sets"
   ]
  },
  {
   "cell_type": "code",
   "execution_count": 3,
   "metadata": {},
   "outputs": [],
   "source": [
    "# Split train data to train and validation\n",
    "X_train, X_val, y_train, y_val = train_test_split(X, y, test_size=0.1, random_state=2)"
   ]
  },
  {
   "cell_type": "code",
   "execution_count": 4,
   "metadata": {},
   "outputs": [
    {
     "name": "stdout",
     "output_type": "stream",
     "text": [
      "Train set shape: (143608,)\n",
      "Validation set shape: (15957,)\n"
     ]
    }
   ],
   "source": [
    "print('Train set shape:', X_train.shape)\n",
    "print('Validation set shape:', X_val.shape)"
   ]
  },
  {
   "cell_type": "markdown",
   "metadata": {},
   "source": [
    "### Vectorize text"
   ]
  },
  {
   "cell_type": "markdown",
   "metadata": {},
   "source": [
    "In order to use text data in any of algorithms, first we need to vectorize it. For this I will use quite popular and simple text vectorization algoritm TFIDF. This will result in huge feature vector (I limited it to 10k values) for each comment. This vector will have values for each word (limited to 10k words) and that word's score in each comment. To use these feature vectors further I will use LSA for dimentionality reduction."
   ]
  },
  {
   "cell_type": "code",
   "execution_count": 5,
   "metadata": {},
   "outputs": [],
   "source": [
    "tfidf = TfidfVectorizer(stop_words='english', max_features=10000)\n",
    "X_train_vec = tfidf.fit_transform(X_train)"
   ]
  },
  {
   "cell_type": "code",
   "execution_count": 6,
   "metadata": {},
   "outputs": [
    {
     "name": "stdout",
     "output_type": "stream",
     "text": [
      "Training feature vectors shape: (143608, 10)\n"
     ]
    }
   ],
   "source": [
    "lsa = TruncatedSVD(n_components=10)\n",
    "X_train_lsa = lsa.fit_transform(X_train_vec)\n",
    "print('Training feature vectors shape:', X_train_lsa.shape)"
   ]
  },
  {
   "cell_type": "markdown",
   "metadata": {},
   "source": [
    "### Prepare validation dataset"
   ]
  },
  {
   "cell_type": "markdown",
   "metadata": {},
   "source": [
    "Apply same transformations to validation dataset"
   ]
  },
  {
   "cell_type": "code",
   "execution_count": 7,
   "metadata": {},
   "outputs": [],
   "source": [
    "X_val_vec = tfidf.transform(X_val)\n",
    "X_val_lsa = lsa.transform(X_val_vec)"
   ]
  },
  {
   "cell_type": "markdown",
   "metadata": {},
   "source": [
    "### Build simple NN model"
   ]
  },
  {
   "cell_type": "markdown",
   "metadata": {},
   "source": [
    "For multilabel classification task let's build a simple one hidden layer NN model to get initial results and see where we can improve. If needed, later on we can iterate on the model, edit hyper parameters to find better architecture for this task. "
   ]
  },
  {
   "cell_type": "code",
   "execution_count": 8,
   "metadata": {},
   "outputs": [],
   "source": [
    "model = Sequential()\n",
    "model.add(Dense(10, input_dim=10, activation='relu'))\n",
    "model.add(Dense(6, activation='sigmoid'))\n",
    "\n",
    "# Compile model\n",
    "model.compile(loss='binary_crossentropy', optimizer='adam', metrics=[AUC(name='auc')])"
   ]
  },
  {
   "cell_type": "code",
   "execution_count": 9,
   "metadata": {},
   "outputs": [
    {
     "name": "stdout",
     "output_type": "stream",
     "text": [
      "Model: \"sequential\"\n",
      "_________________________________________________________________\n",
      "Layer (type)                 Output Shape              Param #   \n",
      "=================================================================\n",
      "dense (Dense)                (None, 10)                110       \n",
      "_________________________________________________________________\n",
      "dense_1 (Dense)              (None, 6)                 66        \n",
      "=================================================================\n",
      "Total params: 176\n",
      "Trainable params: 176\n",
      "Non-trainable params: 0\n",
      "_________________________________________________________________\n"
     ]
    }
   ],
   "source": [
    "model.summary()"
   ]
  },
  {
   "cell_type": "markdown",
   "metadata": {},
   "source": [
    "### Training"
   ]
  },
  {
   "cell_type": "code",
   "execution_count": 10,
   "metadata": {},
   "outputs": [
    {
     "name": "stdout",
     "output_type": "stream",
     "text": [
      "Train on 143608 samples, validate on 15957 samples\n",
      "Epoch 1/20\n",
      "143608/143608 [==============================] - 6s 44us/sample - loss: 0.1429 - auc: 0.8360 - val_loss: 0.0998 - val_auc: 0.9209\n",
      "Epoch 2/20\n",
      "143608/143608 [==============================] - 5s 36us/sample - loss: 0.0965 - auc: 0.9175 - val_loss: 0.0899 - val_auc: 0.9258 0.0967 - auc:\n",
      "Epoch 3/20\n",
      "143608/143608 [==============================] - 5s 35us/sample - loss: 0.0927 - auc: 0.9197 - val_loss: 0.0885 - val_auc: 0.9270 ETA: 2 - ETA: 0s - loss: 0\n",
      "Epoch 4/20\n",
      "143608/143608 [==============================] - 5s 36us/sample - loss: 0.0917 - auc: 0.9211 - val_loss: 0.0875 - val_auc: 0.9288\n",
      "Epoch 5/20\n",
      "143608/143608 [==============================] - 5s 35us/sample - loss: 0.0906 - auc: 0.9236 - val_loss: 0.0862 - val_auc: 0.9319\n",
      "Epoch 6/20\n",
      "143608/143608 [==============================] - 5s 35us/sample - loss: 0.0895 - auc: 0.9254 - val_loss: 0.0854 - val_auc: 0.9324\n",
      "Epoch 7/20\n",
      "143608/143608 [==============================] - 5s 37us/sample - loss: 0.0886 - auc: 0.9267 - val_loss: 0.0845 - val_auc: 0.9341\n",
      "Epoch 8/20\n",
      "143608/143608 [==============================] - 5s 38us/sample - loss: 0.0880 - auc: 0.9275 - val_loss: 0.0840 - val_auc: 0.9356\n",
      "Epoch 9/20\n",
      "143608/143608 [==============================] - 6s 39us/sample - loss: 0.0875 - auc: 0.9285 - val_loss: 0.0835 - val_auc: 0.9366\n",
      "Epoch 10/20\n",
      "143608/143608 [==============================] - 5s 38us/sample - loss: 0.0871 - auc: 0.9293 - val_loss: 0.0831 - val_auc: 0.9375\n",
      "Epoch 11/20\n",
      "143608/143608 [==============================] - 5s 38us/sample - loss: 0.0867 - auc: 0.9297 - val_loss: 0.0830 - val_auc: 0.9379\n",
      "Epoch 12/20\n",
      "143608/143608 [==============================] - 6s 39us/sample - loss: 0.0864 - auc: 0.9301 - val_loss: 0.0827 - val_auc: 0.9384\n",
      "Epoch 13/20\n",
      "143608/143608 [==============================] - 6s 39us/sample - loss: 0.0862 - auc: 0.9304 - val_loss: 0.0826 - val_auc: 0.9388\n",
      "Epoch 14/20\n",
      "143608/143608 [==============================] - 6s 40us/sample - loss: 0.0860 - auc: 0.9309 - val_loss: 0.0825 - val_auc: 0.9390\n",
      "Epoch 15/20\n",
      "143608/143608 [==============================] - 6s 39us/sample - loss: 0.0859 - auc: 0.9309 - val_loss: 0.0823 - val_auc: 0.9397\n",
      "Epoch 16/20\n",
      "143608/143608 [==============================] - 6s 39us/sample - loss: 0.0857 - auc: 0.9314 - val_loss: 0.0823 - val_auc: 0.9397\n",
      "Epoch 17/20\n",
      "143608/143608 [==============================] - 6s 39us/sample - loss: 0.0856 - auc: 0.9315 - val_loss: 0.0821 - val_auc: 0.9399\n",
      "Epoch 18/20\n",
      "143608/143608 [==============================] - 5s 38us/sample - loss: 0.0855 - auc: 0.9318 - val_loss: 0.0820 - val_auc: 0.9401\n",
      "Epoch 19/20\n",
      "143608/143608 [==============================] - 5s 38us/sample - loss: 0.0854 - auc: 0.9317 - val_loss: 0.0821 - val_auc: 0.9404\n",
      "Epoch 20/20\n",
      "143608/143608 [==============================] - 5s 38us/sample - loss: 0.0853 - auc: 0.9320 - val_loss: 0.0822 - val_auc: 0.9398\n"
     ]
    }
   ],
   "source": [
    "hist = model.fit(X_train_lsa, y_train.values, validation_data=(X_val_lsa, y_val.values), epochs=20)"
   ]
  },
  {
   "cell_type": "code",
   "execution_count": 11,
   "metadata": {
    "scrolled": false
   },
   "outputs": [
    {
     "data": {
      "image/png": "[encoded data removed]",
      "text/plain": [
       "<Figure size 432x288 with 1 Axes>"
      ]
     },
     "metadata": {
      "needs_background": "light"
     },
     "output_type": "display_data"
    },
    {
     "data": {
      "image/png": "[encoded data removed]",
      "text/plain": [
       "<Figure size 432x288 with 1 Axes>"
      ]
     },
     "metadata": {
      "needs_background": "light"
     },
     "output_type": "display_data"
    }
   ],
   "source": [
    "# Plot training\n",
    "# Loss\n",
    "plt.plot(hist.history['loss'])\n",
    "plt.plot(hist.history['val_loss'])\n",
    "plt.title('Model loss during training')\n",
    "plt.ylabel('loss')\n",
    "plt.xlabel('epoch')\n",
    "plt.legend(['train', 'validation'], loc='upper left')\n",
    "plt.show()\n",
    "\n",
    "# Accuracy\n",
    "plt.plot(hist.history['auc'])\n",
    "plt.plot(hist.history['val_auc'])\n",
    "plt.title('Model accuracy during training')\n",
    "plt.ylabel('accuracy')\n",
    "plt.xlabel('epoch')\n",
    "plt.legend(['train', 'validation'], loc='upper left')\n",
    "plt.show()"
   ]
  },
  {
   "cell_type": "markdown",
   "metadata": {},
   "source": [
    "We can see that it was quite an easy task for the network to train and reach high accuracy. That is because alot of work has already been done in vectorization and dimentionality reduction steps. Let's evaluate model performance on auc metric."
   ]
  },
  {
   "cell_type": "markdown",
   "metadata": {},
   "source": [
    "### Evaluation"
   ]
  },
  {
   "cell_type": "code",
   "execution_count": 12,
   "metadata": {},
   "outputs": [],
   "source": [
    "def eval_auc(y, pred):\n",
    "    auc_list = []\n",
    "    for i in range(6):\n",
    "    \n",
    "        fpr, tpr, _ = sklearn.metrics.roc_curve(y.iloc[:, i].values, pred[:, i])\n",
    "        auc_list.append(sklearn.metrics.auc(fpr, tpr))\n",
    "    \n",
    "    print('AUC for each class:')\n",
    "    print(np.array(auc_list))\n",
    "    print('Mean AUC:', np.mean(auc_list))"
   ]
  },
  {
   "cell_type": "code",
   "execution_count": 13,
   "metadata": {},
   "outputs": [
    {
     "name": "stdout",
     "output_type": "stream",
     "text": [
      "AUC for each class:\n",
      "[0.88502072 0.97335125 0.92873538 0.91489909 0.91988009 0.90838723]\n",
      "Mean AUC: 0.9217122935207603\n"
     ]
    }
   ],
   "source": [
    "pred_val = model.predict(X_val_lsa)\n",
    "eval_auc(y_val, pred_val)"
   ]
  },
  {
   "cell_type": "markdown",
   "metadata": {},
   "source": [
    "Results seem to be great for the first try, almost high enough to reach the goal of 0.95 on AUC metric. The model seems to be suficient and most likelly missing performance can be achieved with hyperparameter tuning."
   ]
  },
  {
   "cell_type": "markdown",
   "metadata": {},
   "source": [
    "Let's check results manually (sanity check) and see what toxic comments has out algorithm found. Added \"_p\" to column names to mark the predictions of model, classses without \"_p\" are the true labels. "
   ]
  },
  {
   "cell_type": "code",
   "execution_count": 14,
   "metadata": {},
   "outputs": [],
   "source": [
    "check_df = pd.DataFrame(np.hstack((pred_val, y_val)), columns=['toxic_p', 'severe_toxic_p', 'obscene_p', 'threat_p', 'insult_p', 'identity_hate_p', 'toxic', 'severe_toxic', 'obscene', 'threat', 'insult', 'identity_hate'])\n",
    "check_df['comments'] = X_val.values"
   ]
  },
  {
   "cell_type": "code",
   "execution_count": 15,
   "metadata": {},
   "outputs": [
    {
     "data": {
      "text/html": [
       "<div>\n",
       "<style scoped>\n",
       "    .dataframe tbody tr th:only-of-type {\n",
       "        vertical-align: middle;\n",
       "    }\n",
       "\n",
       "    .dataframe tbody tr th {\n",
       "        vertical-align: top;\n",
       "    }\n",
       "\n",
       "    .dataframe thead th {\n",
       "        text-align: right;\n",
       "    }\n",
       "</style>\n",
       "<table border=\"1\" class=\"dataframe\">\n",
       "  <thead>\n",
       "    <tr style=\"text-align: right;\">\n",
       "      <th></th>\n",
       "      <th>toxic_p</th>\n",
       "      <th>severe_toxic_p</th>\n",
       "      <th>obscene_p</th>\n",
       "      <th>threat_p</th>\n",
       "      <th>insult_p</th>\n",
       "      <th>identity_hate_p</th>\n",
       "      <th>toxic</th>\n",
       "      <th>severe_toxic</th>\n",
       "      <th>obscene</th>\n",
       "      <th>threat</th>\n",
       "      <th>insult</th>\n",
       "      <th>identity_hate</th>\n",
       "      <th>comments</th>\n",
       "    </tr>\n",
       "  </thead>\n",
       "  <tbody>\n",
       "    <tr>\n",
       "      <th>25</th>\n",
       "      <td>0.911508</td>\n",
       "      <td>0.213794</td>\n",
       "      <td>0.807117</td>\n",
       "      <td>0.065797</td>\n",
       "      <td>0.635232</td>\n",
       "      <td>0.180814</td>\n",
       "      <td>1.0</td>\n",
       "      <td>1.0</td>\n",
       "      <td>1.0</td>\n",
       "      <td>0.0</td>\n",
       "      <td>1.0</td>\n",
       "      <td>0.0</td>\n",
       "      <td>u suck u suck'u sucku suck'u suck u suck'u suc...</td>\n",
       "    </tr>\n",
       "    <tr>\n",
       "      <th>38</th>\n",
       "      <td>0.806172</td>\n",
       "      <td>0.119507</td>\n",
       "      <td>0.650026</td>\n",
       "      <td>0.037954</td>\n",
       "      <td>0.535300</td>\n",
       "      <td>0.114194</td>\n",
       "      <td>1.0</td>\n",
       "      <td>1.0</td>\n",
       "      <td>1.0</td>\n",
       "      <td>0.0</td>\n",
       "      <td>1.0</td>\n",
       "      <td>1.0</td>\n",
       "      <td>gay everyone is emailing me about deep shadow ...</td>\n",
       "    </tr>\n",
       "    <tr>\n",
       "      <th>63</th>\n",
       "      <td>0.994404</td>\n",
       "      <td>0.272215</td>\n",
       "      <td>0.982439</td>\n",
       "      <td>0.054131</td>\n",
       "      <td>0.806917</td>\n",
       "      <td>0.186099</td>\n",
       "      <td>1.0</td>\n",
       "      <td>0.0</td>\n",
       "      <td>1.0</td>\n",
       "      <td>0.0</td>\n",
       "      <td>1.0</td>\n",
       "      <td>0.0</td>\n",
       "      <td>hahahah sucker quit your bitchin for once and ...</td>\n",
       "    </tr>\n",
       "    <tr>\n",
       "      <th>68</th>\n",
       "      <td>1.000000</td>\n",
       "      <td>0.464845</td>\n",
       "      <td>0.999999</td>\n",
       "      <td>0.016602</td>\n",
       "      <td>0.889193</td>\n",
       "      <td>0.081378</td>\n",
       "      <td>1.0</td>\n",
       "      <td>0.0</td>\n",
       "      <td>1.0</td>\n",
       "      <td>0.0</td>\n",
       "      <td>1.0</td>\n",
       "      <td>0.0</td>\n",
       "      <td>faaa q means fuck you to</td>\n",
       "    </tr>\n",
       "    <tr>\n",
       "      <th>76</th>\n",
       "      <td>0.987826</td>\n",
       "      <td>0.389963</td>\n",
       "      <td>0.966129</td>\n",
       "      <td>0.115974</td>\n",
       "      <td>0.815244</td>\n",
       "      <td>0.307975</td>\n",
       "      <td>1.0</td>\n",
       "      <td>1.0</td>\n",
       "      <td>1.0</td>\n",
       "      <td>1.0</td>\n",
       "      <td>1.0</td>\n",
       "      <td>0.0</td>\n",
       "      <td>eat shit fucko suck my asshole then die horrib...</td>\n",
       "    </tr>\n",
       "  </tbody>\n",
       "</table>\n",
       "</div>"
      ],
      "text/plain": [
       "     toxic_p  severe_toxic_p  obscene_p  threat_p  insult_p  identity_hate_p  \\\n",
       "25  0.911508        0.213794   0.807117  0.065797  0.635232         0.180814   \n",
       "38  0.806172        0.119507   0.650026  0.037954  0.535300         0.114194   \n",
       "63  0.994404        0.272215   0.982439  0.054131  0.806917         0.186099   \n",
       "68  1.000000        0.464845   0.999999  0.016602  0.889193         0.081378   \n",
       "76  0.987826        0.389963   0.966129  0.115974  0.815244         0.307975   \n",
       "\n",
       "    toxic  severe_toxic  obscene  threat  insult  identity_hate  \\\n",
       "25    1.0           1.0      1.0     0.0     1.0            0.0   \n",
       "38    1.0           1.0      1.0     0.0     1.0            1.0   \n",
       "63    1.0           0.0      1.0     0.0     1.0            0.0   \n",
       "68    1.0           0.0      1.0     0.0     1.0            0.0   \n",
       "76    1.0           1.0      1.0     1.0     1.0            0.0   \n",
       "\n",
       "                                             comments  \n",
       "25  u suck u suck'u sucku suck'u suck u suck'u suc...  \n",
       "38  gay everyone is emailing me about deep shadow ...  \n",
       "63  hahahah sucker quit your bitchin for once and ...  \n",
       "68                           faaa q means fuck you to  \n",
       "76  eat shit fucko suck my asshole then die horrib...  "
      ]
     },
     "execution_count": 15,
     "metadata": {},
     "output_type": "execute_result"
    }
   ],
   "source": [
    "check_df[check_df['toxic_p'] > 0.5].head()"
   ]
  }
 ],
 "metadata": {
  "kernelspec": {
   "display_name": "Python 3",
   "language": "python",
   "name": "python3"
  },
  "language_info": {
   "codemirror_mode": {
    "name": "ipython",
    "version": 3
   },
   "file_extension": ".py",
   "mimetype": "text/x-python",
   "name": "python",
   "nbconvert_exporter": "python",
   "pygments_lexer": "ipython3",
   "version": "3.7.3"
  }
 },
 "nbformat": 4,
 "nbformat_minor": 2
}
